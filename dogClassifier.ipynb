{
 "cells": [
  {
   "cell_type": "code",
   "execution_count": 1,
   "metadata": {},
   "outputs": [
    {
     "name": "stderr",
     "output_type": "stream",
     "text": [
      "Using TensorFlow backend.\n"
     ]
    }
   ],
   "source": [
    "%matplotlib inline\n",
    "import matplotlib\n",
    "import matplotlib.pyplot as plt\n",
    "\n",
    "import re\n",
    "import numpy as np\n",
    "import pandas as pd\n",
    "\n",
    "from glob import glob\n",
    "\n",
    "from dogFunctions import *\n",
    "from imageTrans import plotGrid\n",
    "\n",
    "from model import *"
   ]
  },
  {
   "cell_type": "code",
   "execution_count": 2,
   "metadata": {},
   "outputs": [],
   "source": [
    "testFiles  = np.array( glob('./test/*.jpg') )\n",
    "trainFiles = np.array( glob('./train/*.jpg') )\n",
    "\n",
    "breeds = readBreeds()\n",
    "labels = pd.read_csv(\"labels.csv\")\n",
    "\n",
    "labels['breed'] = pd.Categorical( labels['breed'], categories = breeds )\n",
    "labels['breed'] = labels['breed'].cat.codes"
   ]
  },
  {
   "cell_type": "code",
   "execution_count": 3,
   "metadata": {},
   "outputs": [
    {
     "name": "stdout",
     "output_type": "stream",
     "text": [
      "Validation set: 1480\n",
      "Training set: 8742\n"
     ]
    }
   ],
   "source": [
    "#make sure there are an equal proportion of each breed in validation set.\n",
    "\n",
    "valFiles = sampleDogs( trainFiles, labels, 0.16 )\n",
    "valFiles = np.array( list(set(valFiles)) )\n",
    "\n",
    "\n",
    "tmp = []\n",
    "\n",
    "for f in trainFiles:\n",
    "    if ( not (f in valFiles) ):\n",
    "        tmp.append(f)\n",
    "\n",
    "trainFiles = np.array( tmp )\n",
    "np.random.shuffle(trainFiles)\n",
    "\n",
    "print( \"Validation set:\", len(valFiles) )\n",
    "print( \"Training set:\", len(trainFiles) )"
   ]
  },
  {
   "cell_type": "code",
   "execution_count": 4,
   "metadata": {
    "scrolled": false
   },
   "outputs": [
    {
     "name": "stdout",
     "output_type": "stream",
     "text": [
      "Step 25:\n",
      "   valLoss: 4.841463, trainLoss: 4.828303, trAcc: 0.0086, valAcc: 0.0115, patience:  0\n",
      "Step 50:\n",
      "   valLoss: 4.796624, trainLoss: 4.760319, trAcc: 0.0114, valAcc: 0.0128, patience:  0\n",
      "Step 75:\n",
      "   valLoss: 4.765713, trainLoss: 4.746945, trAcc: 0.0164, valAcc: 0.0189, patience:  0\n",
      "Step 100:\n",
      "   valLoss: 4.740425, trainLoss: 4.698063, trAcc: 0.0202, valAcc: 0.0243, patience:  0\n",
      "Step 125:\n",
      "   valLoss: 4.718555, trainLoss: 4.640281, trAcc: 0.0251, valAcc: 0.0216, patience:  0\n",
      "Step 150:\n",
      "   valLoss: 4.696748, trainLoss: 4.601586, trAcc: 0.0293, valAcc: 0.0216, patience:  0\n",
      "Step 175:\n",
      "   valLoss: 4.675150, trainLoss: 4.549146, trAcc: 0.0325, valAcc: 0.0230, patience:  0\n",
      "Step 200:\n",
      "   valLoss: 4.647646, trainLoss: 4.516428, trAcc: 0.0408, valAcc: 0.0264, patience:  0\n",
      "Step 225:\n",
      "   valLoss: 4.617534, trainLoss: 4.446870, trAcc: 0.0500, valAcc: 0.0277, patience:  0\n",
      "Step 250:\n",
      "   valLoss: 4.581098, trainLoss: 4.346212, trAcc: 0.0599, valAcc: 0.0358, patience:  0\n",
      "Step 275:\n",
      "   valLoss: 4.543824, trainLoss: 4.283886, trAcc: 0.0753, valAcc: 0.0358, patience:  0\n",
      "Step 300:\n",
      "   valLoss: 4.503326, trainLoss: 4.162498, trAcc: 0.0923, valAcc: 0.0446, patience:  0\n",
      "Step 325:\n",
      "   valLoss: 4.467885, trainLoss: 4.017184, trAcc: 0.1135, valAcc: 0.0466, patience:  0\n",
      "Step 350:\n",
      "   valLoss: 4.435945, trainLoss: 3.937743, trAcc: 0.1380, valAcc: 0.0527, patience:  0\n",
      "Step 375:\n",
      "   valLoss: 4.406918, trainLoss: 3.816740, trAcc: 0.1623, valAcc: 0.0500, patience:  0\n",
      "Step 400:\n",
      "   valLoss: 4.379729, trainLoss: 3.734366, trAcc: 0.1917, valAcc: 0.0547, patience:  0\n",
      "Step 425:\n",
      "   valLoss: 4.356758, trainLoss: 3.570405, trAcc: 0.2180, valAcc: 0.0574, patience:  0\n",
      "Step 450:\n",
      "   valLoss: 4.339687, trainLoss: 3.483110, trAcc: 0.2625, valAcc: 0.0615, patience:  0\n",
      "Step 475:\n",
      "   valLoss: 4.324026, trainLoss: 3.361164, trAcc: 0.2997, valAcc: 0.0655, patience:  0\n",
      "Step 500:\n",
      "   valLoss: 4.312454, trainLoss: 3.140287, trAcc: 0.3378, valAcc: 0.0655, patience:  0\n",
      "Step 525:\n",
      "   valLoss: 4.306510, trainLoss: 3.072218, trAcc: 0.3806, valAcc: 0.0770, patience:  0\n",
      "Step 550:\n",
      "   valLoss: 4.299218, trainLoss: 2.966844, trAcc: 0.4207, valAcc: 0.0730, patience:  0\n",
      "Step 575:\n",
      "   valLoss: 4.298618, trainLoss: 2.819566, trAcc: 0.4523, valAcc: 0.0770, patience:  0\n",
      "Step 600:\n",
      "   valLoss: 4.302702, trainLoss: 2.672838, trAcc: 0.4833, valAcc: 0.0824, patience:  1\n",
      "Step 625:\n",
      "   valLoss: 4.306943, trainLoss: 2.521742, trAcc: 0.5209, valAcc: 0.0811, patience:  2\n",
      "Step 650:\n",
      "   valLoss: 4.311031, trainLoss: 2.427184, trAcc: 0.5546, valAcc: 0.0831, patience:  3\n",
      "Step 675:\n",
      "   valLoss: 4.318755, trainLoss: 2.284657, trAcc: 0.5843, valAcc: 0.0818, patience:  4\n",
      "Step 700:\n",
      "   valLoss: 4.329671, trainLoss: 2.248855, trAcc: 0.6164, valAcc: 0.0865, patience:  5\n",
      "Step 725:\n",
      "   valLoss: 4.342511, trainLoss: 2.071220, trAcc: 0.6508, valAcc: 0.0811, patience:  6\n",
      "Step 750:\n",
      "   valLoss: 4.353142, trainLoss: 1.998555, trAcc: 0.6825, valAcc: 0.0811, patience:  7\n",
      "Step 775:\n",
      "   valLoss: 4.367492, trainLoss: 1.812834, trAcc: 0.7128, valAcc: 0.0784, patience:  8\n",
      "Step 800:\n",
      "   valLoss: 4.385350, trainLoss: 1.612238, trAcc: 0.7550, valAcc: 0.0824, patience:  9\n",
      "Step 825:\n",
      "   valLoss: 4.409147, trainLoss: 1.539480, trAcc: 0.7876, valAcc: 0.0831, patience: 10\n"
     ]
    }
   ],
   "source": [
    "params = { \"batchSize\" : 1024, \"params\" : { \"alpha\" : 0.001,\n",
    "                                           #\"b1\"     : 0.99,\n",
    "                                           #\"b2\"     : 0.99,\n",
    "                                           \"eps\"    : 0.1 } }\n",
    "                                           #\"bnm\"    : 0.99 } }\n",
    "\n",
    "loVal, tls, vls, tas, vas = trainModel( trainFiles, valFiles, labels, params, saveModel = True )"
   ]
  },
  {
   "cell_type": "code",
   "execution_count": 5,
   "metadata": {},
   "outputs": [
    {
     "data": {
      "image/png": "[encoded data removed]",
      "text/plain": [
       "<matplotlib.figure.Figure at 0x7fb2457f5400>"
      ]
     },
     "metadata": {},
     "output_type": "display_data"
    }
   ],
   "source": [
    "fig = plt.figure( 1, (9, 7) )\n",
    "\n",
    "n = len(tls)\n",
    "\n",
    "plt.plot( list( range(0, n * 25, 25) ), tls, label = \"training\" )\n",
    "plt.plot( list( range(0, n * 25, 25) ), vls, label = \"validation\" )\n",
    "\n",
    "plt.xlim( xmin = 0, xmax = (len(tls) - 1)*25 )\n",
    "plt.ylim( ymax = np.max(vls[1:]) + .5 * max(tls[1], vls[1]),\n",
    "          ymin = min( np.min(tls[1:]), np.min(vls[1:]) )\n",
    "               - .5 * min( np.min(tls), np.min(vls) ) )\n",
    "\n",
    "plt.xlabel(\"Step\")\n",
    "plt.ylabel(\"Loss\")\n",
    "\n",
    "plt.legend( loc = \"best\" )\n",
    "\n",
    "plt.show()"
   ]
  },
  {
   "cell_type": "code",
   "execution_count": 6,
   "metadata": {},
   "outputs": [
    {
     "data": {
      "image/png": "[encoded data removed]",
      "text/plain": [
       "<matplotlib.figure.Figure at 0x7fb245b82b38>"
      ]
     },
     "metadata": {},
     "output_type": "display_data"
    }
   ],
   "source": [
    "fig = plt.figure( 2, (9, 7) )\n",
    "\n",
    "n = len(vas)\n",
    "\n",
    "plt.plot( list( range(0, n * 25, 25) ), tas, label = \"training\" )\n",
    "plt.plot( list( range(0, n * 25, 25) ), vas, label = \"validation\" )\n",
    "\n",
    "plt.xlim( xmin = 0, xmax = (len(vas) - 1)*25 )\n",
    "plt.ylim( ymax = 1, #min(np.max(vas) + .5 * np.max(vas), 1),\n",
    "          ymin = max( np.min(vas) - .5 * np.min(vas), 0) )\n",
    "\n",
    "plt.xlabel(\"Step\")\n",
    "plt.ylabel(\"Accuracy\")\n",
    "\n",
    "plt.legend( loc = \"best\" )\n",
    "\n",
    "plt.show()"
   ]
  },
  {
   "cell_type": "code",
   "execution_count": null,
   "metadata": {},
   "outputs": [],
   "source": []
  }
 ],
 "metadata": {
  "kernelspec": {
   "display_name": "Python 3",
   "language": "python",
   "name": "python3"
  },
  "language_info": {
   "codemirror_mode": {
    "name": "ipython",
    "version": 3
   },
   "file_extension": ".py",
   "mimetype": "text/x-python",
   "name": "python",
   "nbconvert_exporter": "python",
   "pygments_lexer": "ipython3",
   "version": "3.5.2"
  }
 },
 "nbformat": 4,
 "nbformat_minor": 2
}
