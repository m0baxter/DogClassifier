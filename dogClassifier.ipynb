{
 "cells": [
  {
   "cell_type": "code",
   "execution_count": 1,
   "metadata": {},
   "outputs": [
    {
     "name": "stderr",
     "output_type": "stream",
     "text": [
      "Using TensorFlow backend.\n"
     ]
    }
   ],
   "source": [
    "%matplotlib inline\n",
    "import matplotlib\n",
    "import matplotlib.pyplot as plt\n",
    "\n",
    "import re\n",
    "import numpy as np\n",
    "import pandas as pd\n",
    "\n",
    "from glob import glob\n",
    "\n",
    "from dogFunctions import *\n",
    "from imageTrans import plotGrid\n",
    "\n",
    "from model import *"
   ]
  },
  {
   "cell_type": "code",
   "execution_count": 2,
   "metadata": {},
   "outputs": [],
   "source": [
    "testFiles  = np.array( glob('./test/*.jpg') )\n",
    "trainFiles = np.array( glob('./train/*.jpg') )\n",
    "\n",
    "breeds = readBreeds()\n",
    "labels = pd.read_csv(\"labels.csv\")\n",
    "\n",
    "labels['breed'] = pd.Categorical( labels['breed'], categories = breeds )\n",
    "labels['breed'] = labels['breed'].cat.codes"
   ]
  },
  {
   "cell_type": "code",
   "execution_count": 3,
   "metadata": {},
   "outputs": [],
   "source": [
    "#make sure there are an equal number of each breed in validation set.\n",
    "\n",
    "valFiles = sampleDogs( trainFiles, labels, 12 )\n",
    "\n",
    "tmp = []\n",
    "\n",
    "for f in trainFiles:\n",
    "    if ( not f in valFiles ):\n",
    "        tmp.append(f)\n",
    "\n",
    "trainFiles = np.array( tmp )\n",
    "np.random.shuffle(trainFiles)"
   ]
  },
  {
   "cell_type": "code",
   "execution_count": null,
   "metadata": {
    "scrolled": false
   },
   "outputs": [],
   "source": [
    "params = { \"batchSize\" : 100, \"params\" : { \"alpha\" : 0.001, \"b\" : 0.99 } }\n",
    "\n",
    "#loVal, trHist, vlHist, bestParams = hyperparameterSearch( trainFiles, labels, paramsList, 2 )\n",
    "loVal, tls, vls = trainModel( trainFiles, valFiles, labels, params, saveModel = False )\n",
    "\n",
    "print( \"\\n\\nLowest validation loss:\", loVal )"
   ]
  },
  {
   "cell_type": "code",
   "execution_count": null,
   "metadata": {},
   "outputs": [],
   "source": [
    "fig = plt.figure( 1, (9, 7) )\n",
    "\n",
    "plt.plot( trHist[:], label = \"training\" )\n",
    "plt.plot( vlHist[:], label = \"validation\" )\n",
    "\n",
    "plt.xlim( xmin = 0, xmax = len(trHist) - 1 )\n",
    "plt.ylim( ymin = 0, ymax = np.max(vlHist[1:]) + .1 * max(trHist[1], vlHist[1]) )\n",
    "\n",
    "plt.xlabel(\"Epoch\")\n",
    "plt.ylabel(\"Loss\")\n",
    "\n",
    "plt.legend( loc = \"best\" )\n",
    "\n",
    "plt.show()"
   ]
  }
 ],
 "metadata": {
  "kernelspec": {
   "display_name": "Python 3",
   "language": "python",
   "name": "python3"
  },
  "language_info": {
   "codemirror_mode": {
    "name": "ipython",
    "version": 3
   },
   "file_extension": ".py",
   "mimetype": "text/x-python",
   "name": "python",
   "nbconvert_exporter": "python",
   "pygments_lexer": "ipython3",
   "version": "3.6.5"
  }
 },
 "nbformat": 4,
 "nbformat_minor": 2
}
