{
 "cells": [
  {
   "cell_type": "code",
   "execution_count": 1,
   "metadata": {},
   "outputs": [
    {
     "name": "stderr",
     "output_type": "stream",
     "text": [
      "Using TensorFlow backend.\n"
     ]
    }
   ],
   "source": [
    "%matplotlib inline\n",
    "import matplotlib\n",
    "import matplotlib.pyplot as plt\n",
    "\n",
    "import re\n",
    "import numpy as np\n",
    "import pandas as pd\n",
    "\n",
    "from glob import glob\n",
    "\n",
    "from dogFunctions import *\n",
    "from imageTrans import plotGrid\n",
    "\n",
    "from model import *"
   ]
  },
  {
   "cell_type": "code",
   "execution_count": 2,
   "metadata": {},
   "outputs": [],
   "source": [
    "testFiles = np.array( glob('./test/*.jpg') )\n",
    "trainFiles = np.array( glob('./train/*.jpg') )\n",
    "\n",
    "breeds = readBreeds()\n",
    "labels = pd.read_csv(\"labels.csv\")\n",
    "\n",
    "labels['breed'] = pd.Categorical( labels['breed'], categories = breeds )\n",
    "labels['breed'] = labels['breed'].cat.codes\n",
    "\n",
    "#g = genBatch( trainFiles, labels, 4, imgSize = 400 )"
   ]
  },
  {
   "cell_type": "code",
   "execution_count": 3,
   "metadata": {
    "scrolled": false
   },
   "outputs": [],
   "source": [
    "#X, y = next(g)\n",
    "#plotGrid( X, \"Some dogs\" )"
   ]
  },
  {
   "cell_type": "code",
   "execution_count": null,
   "metadata": {
    "scrolled": false
   },
   "outputs": [],
   "source": [
    " paramsList = [{ \"batchSize\" : 100, \"params\" : { \"alpha\" : 0.001, \"b\" : 0.99 } }]\n",
    "\n",
    "loVal, trHist, vlHist, bestParams = hyperparameterSearch( trainFiles, labels, paramsList, 2 )\n",
    "\n",
    "print( \"\\n\\nLowest validation loss:\", loVal )\n",
    "print( \"Best parameters found:\", bestParams )"
   ]
  },
  {
   "cell_type": "code",
   "execution_count": null,
   "metadata": {},
   "outputs": [],
   "source": []
  }
 ],
 "metadata": {
  "kernelspec": {
   "display_name": "Python 3",
   "language": "python",
   "name": "python3"
  },
  "language_info": {
   "codemirror_mode": {
    "name": "ipython",
    "version": 3
   },
   "file_extension": ".py",
   "mimetype": "text/x-python",
   "name": "python",
   "nbconvert_exporter": "python",
   "pygments_lexer": "ipython3",
   "version": "3.5.2"
  }
 },
 "nbformat": 4,
 "nbformat_minor": 2
}
