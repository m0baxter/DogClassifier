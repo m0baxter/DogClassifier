{
 "cells": [
  {
   "cell_type": "code",
   "execution_count": 1,
   "metadata": {},
   "outputs": [
    {
     "name": "stderr",
     "output_type": "stream",
     "text": [
      "Using TensorFlow backend.\n"
     ]
    }
   ],
   "source": [
    "%matplotlib inline\n",
    "import matplotlib\n",
    "import matplotlib.pyplot as plt\n",
    "\n",
    "import re\n",
    "import numpy as np\n",
    "import pandas as pd\n",
    "\n",
    "from glob import glob\n",
    "\n",
    "from dogFunctions import *\n",
    "from imageTrans import plotGrid\n",
    "\n",
    "from model import *"
   ]
  },
  {
   "cell_type": "code",
   "execution_count": 2,
   "metadata": {},
   "outputs": [],
   "source": [
    "testFiles  = np.array( glob('./test/*.jpg') )\n",
    "trainFiles = np.array( glob('./train/*.jpg') )\n",
    "\n",
    "breeds = readBreeds()\n",
    "labels = pd.read_csv(\"labels.csv\")\n",
    "\n",
    "labels['breed'] = pd.Categorical( labels['breed'], categories = breeds )\n",
    "labels['breed'] = labels['breed'].cat.codes"
   ]
  },
  {
   "cell_type": "code",
   "execution_count": 3,
   "metadata": {},
   "outputs": [
    {
     "name": "stdout",
     "output_type": "stream",
     "text": [
      "Validation set: 1444\n",
      "Training set: 8778\n"
     ]
    }
   ],
   "source": [
    "#make sure there are an equal proportion of each breed in validation set.\n",
    "\n",
    "valFiles = sampleDogs( trainFiles, labels, 0.147 )\n",
    "valFiles = np.array( list(set(valFiles)) )\n",
    "\n",
    "\n",
    "tmp = []\n",
    "\n",
    "for f in trainFiles:\n",
    "    if ( not (f in valFiles) ):\n",
    "        tmp.append(f)\n",
    "\n",
    "trainFiles = np.array( tmp )\n",
    "np.random.shuffle(trainFiles)\n",
    "\n",
    "print( \"Validation set:\", len(valFiles) )\n",
    "print( \"Training set:\", len(trainFiles) )"
   ]
  },
  {
   "cell_type": "code",
   "execution_count": 4,
   "metadata": {
    "scrolled": false
   },
   "outputs": [
    {
     "name": "stdout",
     "output_type": "stream",
     "text": [
      "Step 25:\n",
      "   valLoss: 4.822498, trainLoss: 4.813438, trAcc: 0.0084, valAcc: 0.0083, patience:  0\n",
      "Step 50:\n",
      "   valLoss: 4.800664, trainLoss: 4.792719, trAcc: 0.0105, valAcc: 0.0132, patience:  0\n",
      "Step 75:\n",
      "   valLoss: 4.787981, trainLoss: 4.790391, trAcc: 0.0166, valAcc: 0.0125, patience:  0\n",
      "Step 100:\n",
      "   valLoss: 4.772115, trainLoss: 4.740180, trAcc: 0.0222, valAcc: 0.0180, patience:  0\n",
      "Step 125:\n",
      "   valLoss: 4.750707, trainLoss: 4.709429, trAcc: 0.0253, valAcc: 0.0194, patience:  0\n",
      "Step 150:\n",
      "   valLoss: 4.730562, trainLoss: 4.664892, trAcc: 0.0285, valAcc: 0.0208, patience:  0\n",
      "Step 175:\n",
      "   valLoss: 4.706730, trainLoss: 4.717635, trAcc: 0.0308, valAcc: 0.0208, patience:  0\n",
      "Step 200:\n",
      "   valLoss: 4.687162, trainLoss: 4.615286, trAcc: 0.0327, valAcc: 0.0235, patience:  0\n",
      "Step 225:\n",
      "   valLoss: 4.663623, trainLoss: 4.661960, trAcc: 0.0365, valAcc: 0.0263, patience:  0\n",
      "Step 250:\n",
      "   valLoss: 4.638219, trainLoss: 4.526126, trAcc: 0.0394, valAcc: 0.0277, patience:  0\n",
      "Step 275:\n",
      "   valLoss: 4.614637, trainLoss: 4.501531, trAcc: 0.0427, valAcc: 0.0277, patience:  0\n",
      "Step 300:\n",
      "   valLoss: 4.591966, trainLoss: 4.459814, trAcc: 0.0472, valAcc: 0.0270, patience:  0\n",
      "Step 325:\n",
      "   valLoss: 4.569849, trainLoss: 4.394556, trAcc: 0.0545, valAcc: 0.0284, patience:  0\n",
      "Step 350:\n",
      "   valLoss: 4.548720, trainLoss: 4.392567, trAcc: 0.0607, valAcc: 0.0332, patience:  0\n",
      "Step 375:\n",
      "   valLoss: 4.533072, trainLoss: 4.322697, trAcc: 0.0688, valAcc: 0.0332, patience:  0\n",
      "Step 400:\n",
      "   valLoss: 4.512442, trainLoss: 4.322392, trAcc: 0.0767, valAcc: 0.0360, patience:  0\n",
      "Step 425:\n",
      "   valLoss: 4.493674, trainLoss: 4.259657, trAcc: 0.0858, valAcc: 0.0388, patience:  0\n",
      "Step 450:\n",
      "   valLoss: 4.478326, trainLoss: 4.248560, trAcc: 0.0916, valAcc: 0.0388, patience:  0\n",
      "Step 475:\n",
      "   valLoss: 4.464001, trainLoss: 4.239178, trAcc: 0.0980, valAcc: 0.0416, patience:  0\n",
      "Step 500:\n",
      "   valLoss: 4.448926, trainLoss: 4.194652, trAcc: 0.1057, valAcc: 0.0457, patience:  0\n",
      "Step 525:\n",
      "   valLoss: 4.433170, trainLoss: 4.154448, trAcc: 0.1130, valAcc: 0.0485, patience:  0\n",
      "Step 550:\n",
      "   valLoss: 4.418097, trainLoss: 4.113644, trAcc: 0.1195, valAcc: 0.0457, patience:  0\n",
      "Step 575:\n",
      "   valLoss: 4.402424, trainLoss: 4.096179, trAcc: 0.1271, valAcc: 0.0485, patience:  0\n",
      "Step 600:\n",
      "   valLoss: 4.385827, trainLoss: 4.036957, trAcc: 0.1355, valAcc: 0.0575, patience:  0\n",
      "Step 625:\n",
      "   valLoss: 4.372644, trainLoss: 3.998607, trAcc: 0.1446, valAcc: 0.0561, patience:  0\n",
      "Step 650:\n",
      "   valLoss: 4.358915, trainLoss: 4.011867, trAcc: 0.1486, valAcc: 0.0561, patience:  0\n",
      "Step 675:\n",
      "   valLoss: 4.348597, trainLoss: 3.949470, trAcc: 0.1556, valAcc: 0.0568, patience:  0\n",
      "Step 700:\n",
      "   valLoss: 4.335915, trainLoss: 3.929360, trAcc: 0.1647, valAcc: 0.0596, patience:  0\n",
      "Step 725:\n",
      "   valLoss: 4.323725, trainLoss: 3.881984, trAcc: 0.1694, valAcc: 0.0637, patience:  0\n",
      "Step 750:\n",
      "   valLoss: 4.310762, trainLoss: 3.883251, trAcc: 0.1791, valAcc: 0.0630, patience:  0\n",
      "Step 775:\n",
      "   valLoss: 4.298521, trainLoss: 3.960105, trAcc: 0.1867, valAcc: 0.0651, patience:  0\n",
      "Step 800:\n",
      "   valLoss: 4.286043, trainLoss: 3.840246, trAcc: 0.1978, valAcc: 0.0582, patience:  0\n",
      "Step 825:\n",
      "   valLoss: 4.274538, trainLoss: 3.810281, trAcc: 0.2036, valAcc: 0.0596, patience:  0\n",
      "Step 850:\n",
      "   valLoss: 4.265497, trainLoss: 3.740448, trAcc: 0.2110, valAcc: 0.0658, patience:  0\n",
      "Step 875:\n",
      "   valLoss: 4.254428, trainLoss: 3.751323, trAcc: 0.2161, valAcc: 0.0658, patience:  0\n",
      "Step 900:\n",
      "   valLoss: 4.240961, trainLoss: 3.686715, trAcc: 0.2243, valAcc: 0.0748, patience:  0\n",
      "Step 925:\n",
      "   valLoss: 4.232232, trainLoss: 3.651909, trAcc: 0.2300, valAcc: 0.0748, patience:  0\n",
      "Step 950:\n",
      "   valLoss: 4.224677, trainLoss: 3.641504, trAcc: 0.2324, valAcc: 0.0776, patience:  0\n",
      "Step 975:\n",
      "   valLoss: 4.216310, trainLoss: 3.632174, trAcc: 0.2407, valAcc: 0.0748, patience:  0\n",
      "Step 1000:\n",
      "   valLoss: 4.204413, trainLoss: 3.664925, trAcc: 0.2504, valAcc: 0.0817, patience:  0\n",
      "Step 1025:\n",
      "   valLoss: 4.198006, trainLoss: 3.773743, trAcc: 0.2619, valAcc: 0.0810, patience:  0\n",
      "Step 1050:\n",
      "   valLoss: 4.190356, trainLoss: 3.461212, trAcc: 0.2687, valAcc: 0.0852, patience:  0\n",
      "Step 1075:\n",
      "   valLoss: 4.183042, trainLoss: 3.442673, trAcc: 0.2759, valAcc: 0.0776, patience:  0\n",
      "Step 1100:\n",
      "   valLoss: 4.172117, trainLoss: 3.459025, trAcc: 0.2867, valAcc: 0.0803, patience:  0\n",
      "Step 1125:\n",
      "   valLoss: 4.166447, trainLoss: 3.346480, trAcc: 0.2995, valAcc: 0.0845, patience:  0\n",
      "Step 1150:\n",
      "   valLoss: 4.153550, trainLoss: 3.549885, trAcc: 0.3069, valAcc: 0.0859, patience:  0\n",
      "Step 1175:\n",
      "   valLoss: 4.146082, trainLoss: 3.388290, trAcc: 0.3176, valAcc: 0.0893, patience:  0\n",
      "Step 1200:\n",
      "   valLoss: 4.141306, trainLoss: 3.242798, trAcc: 0.3293, valAcc: 0.0859, patience:  0\n",
      "Step 1225:\n",
      "   valLoss: 4.135350, trainLoss: 3.269352, trAcc: 0.3418, valAcc: 0.0852, patience:  0\n",
      "Step 1250:\n",
      "   valLoss: 4.126879, trainLoss: 3.325784, trAcc: 0.3527, valAcc: 0.0859, patience:  0\n",
      "Step 1275:\n",
      "   valLoss: 4.120031, trainLoss: 3.349850, trAcc: 0.3617, valAcc: 0.0873, patience:  0\n",
      "Step 1300:\n",
      "   valLoss: 4.112600, trainLoss: 3.204017, trAcc: 0.3733, valAcc: 0.0921, patience:  0\n",
      "Step 1325:\n",
      "   valLoss: 4.104623, trainLoss: 3.326198, trAcc: 0.3833, valAcc: 0.0893, patience:  0\n",
      "Step 1350:\n",
      "   valLoss: 4.098762, trainLoss: 3.087840, trAcc: 0.3963, valAcc: 0.0907, patience:  0\n",
      "Step 1375:\n",
      "   valLoss: 4.096729, trainLoss: 3.001485, trAcc: 0.4100, valAcc: 0.0900, patience:  0\n",
      "Step 1400:\n",
      "   valLoss: 4.090847, trainLoss: 3.020347, trAcc: 0.4215, valAcc: 0.0935, patience:  0\n",
      "Step 1425:\n",
      "   valLoss: 4.085112, trainLoss: 2.976496, trAcc: 0.4339, valAcc: 0.0942, patience:  0\n",
      "Step 1450:\n",
      "   valLoss: 4.078858, trainLoss: 2.840430, trAcc: 0.4441, valAcc: 0.0921, patience:  0\n",
      "Step 1475:\n",
      "   valLoss: 4.073416, trainLoss: 2.888991, trAcc: 0.4544, valAcc: 0.0942, patience:  0\n",
      "Step 1500:\n",
      "   valLoss: 4.066326, trainLoss: 2.801771, trAcc: 0.4616, valAcc: 0.0942, patience:  0\n",
      "Step 1525:\n",
      "   valLoss: 4.065261, trainLoss: 2.755299, trAcc: 0.4755, valAcc: 0.0963, patience:  0\n",
      "Step 1550:\n",
      "   valLoss: 4.057271, trainLoss: 2.912511, trAcc: 0.4827, valAcc: 0.0921, patience:  0\n",
      "Step 1575:\n",
      "   valLoss: 4.055481, trainLoss: 2.641645, trAcc: 0.4933, valAcc: 0.0956, patience:  0\n",
      "Step 1600:\n",
      "   valLoss: 4.049611, trainLoss: 2.680326, trAcc: 0.5064, valAcc: 0.0963, patience:  0\n",
      "Step 1625:\n",
      "   valLoss: 4.044843, trainLoss: 2.619891, trAcc: 0.5154, valAcc: 0.1011, patience:  0\n",
      "Step 1650:\n",
      "   valLoss: 4.039933, trainLoss: 2.605108, trAcc: 0.5221, valAcc: 0.0983, patience:  0\n",
      "Step 1675:\n",
      "   valLoss: 4.036112, trainLoss: 2.571230, trAcc: 0.5324, valAcc: 0.1018, patience:  0\n",
      "Step 1700:\n",
      "   valLoss: 4.037007, trainLoss: 2.532204, trAcc: 0.5467, valAcc: 0.1046, patience:  1\n",
      "Step 1725:\n",
      "   valLoss: 4.030087, trainLoss: 2.414337, trAcc: 0.5605, valAcc: 0.1025, patience:  0\n",
      "Step 1750:\n",
      "   valLoss: 4.028734, trainLoss: 2.423891, trAcc: 0.5735, valAcc: 0.1025, patience:  0\n",
      "Step 1775:\n",
      "   valLoss: 4.025217, trainLoss: 2.362893, trAcc: 0.5868, valAcc: 0.1080, patience:  0\n",
      "Step 1800:\n",
      "   valLoss: 4.021946, trainLoss: 2.229561, trAcc: 0.5966, valAcc: 0.1060, patience:  0\n",
      "Step 1825:\n",
      "   valLoss: 4.022311, trainLoss: 2.366935, trAcc: 0.6044, valAcc: 0.1087, patience:  1\n",
      "Step 1850:\n",
      "   valLoss: 4.019939, trainLoss: 2.195673, trAcc: 0.6189, valAcc: 0.1080, patience:  0\n",
      "Step 1875:\n",
      "   valLoss: 4.017039, trainLoss: 2.586992, trAcc: 0.6275, valAcc: 0.1053, patience:  0\n",
      "Step 1900:\n",
      "   valLoss: 4.011003, trainLoss: 2.175760, trAcc: 0.6464, valAcc: 0.1115, patience:  0\n",
      "Step 1925:\n",
      "   valLoss: 4.008495, trainLoss: 2.094660, trAcc: 0.6596, valAcc: 0.1053, patience:  0\n",
      "Step 1950:\n",
      "   valLoss: 4.009005, trainLoss: 2.076605, trAcc: 0.6701, valAcc: 0.1087, patience:  1\n",
      "Step 1975:\n",
      "   valLoss: 4.010732, trainLoss: 1.937358, trAcc: 0.6926, valAcc: 0.1094, patience:  2\n",
      "Step 2000:\n",
      "   valLoss: 4.010560, trainLoss: 2.331782, trAcc: 0.6989, valAcc: 0.1115, patience:  3\n",
      "Step 2025:\n",
      "   valLoss: 4.016184, trainLoss: 2.005725, trAcc: 0.7046, valAcc: 0.1136, patience:  4\n",
      "Step 2050:\n",
      "   valLoss: 4.011337, trainLoss: 2.343031, trAcc: 0.7155, valAcc: 0.1115, patience:  5\n",
      "Step 2075:\n",
      "   valLoss: 4.008891, trainLoss: 1.880895, trAcc: 0.7276, valAcc: 0.1170, patience:  6\n",
      "Step 2100:\n",
      "   valLoss: 4.009177, trainLoss: 1.838475, trAcc: 0.7430, valAcc: 0.1094, patience:  7\n",
      "Step 2125:\n",
      "   valLoss: 4.012408, trainLoss: 1.789387, trAcc: 0.7517, valAcc: 0.1101, patience:  8\n"
     ]
    },
    {
     "name": "stdout",
     "output_type": "stream",
     "text": [
      "Step 2150:\n",
      "   valLoss: 4.013027, trainLoss: 1.843424, trAcc: 0.7605, valAcc: 0.1108, patience:  9\n",
      "Step 2175:\n",
      "   valLoss: 4.021117, trainLoss: 1.662867, trAcc: 0.7712, valAcc: 0.1080, patience: 10\n"
     ]
    }
   ],
   "source": [
    "params = { \"batchSize\" : 1024, \"params\" : { \"alpha\" : 0.001,\n",
    "                                           #\"b1\"     : 0.99,\n",
    "                                           #\"b2\"     : 0.99,\n",
    "                                           \"eps\"    : 0.1 } }\n",
    "                                           #\"bnm\"    : 0.99 } }\n",
    "\n",
    "loVal, tls, vls, tas, vas = trainModel( trainFiles, valFiles, labels, params, saveModel = True )"
   ]
  },
  {
   "cell_type": "code",
   "execution_count": 5,
   "metadata": {},
   "outputs": [
    {
     "data": {
      "image/png": "[encoded data removed]",
      "text/plain": [
       "<matplotlib.figure.Figure at 0x7fcc21fb0780>"
      ]
     },
     "metadata": {},
     "output_type": "display_data"
    }
   ],
   "source": [
    "fig = plt.figure( 1, (9, 7) )\n",
    "\n",
    "n = len(tls)\n",
    "\n",
    "plt.plot( list( range(0, n * 25, 25) ), tls, label = \"training\" )\n",
    "plt.plot( list( range(0, n * 25, 25) ), vls, label = \"validation\" )\n",
    "\n",
    "plt.xlim( xmin = 0, xmax = (len(tls) - 1)*25 )\n",
    "plt.ylim( ymax = np.max(vls[1:]) + .5 * max(tls[1], vls[1]),\n",
    "          ymin = min( np.min(tls[1:]), np.min(vls[1:]) )\n",
    "               - .5 * min( np.min(tls), np.min(vls) ) )\n",
    "\n",
    "plt.xlabel(\"Step\")\n",
    "plt.ylabel(\"Loss\")\n",
    "\n",
    "plt.legend( loc = \"best\" )\n",
    "\n",
    "fig.savefig( \"loss-drop.eps\", format = 'eps', dpi = 20000, bbox_inches = 'tight' )\n",
    "\n",
    "plt.show()"
   ]
  },
  {
   "cell_type": "code",
   "execution_count": 6,
   "metadata": {},
   "outputs": [
    {
     "data": {
      "image/png": "[encoded data removed]",
      "text/plain": [
       "<matplotlib.figure.Figure at 0x7fcc21fb0a20>"
      ]
     },
     "metadata": {},
     "output_type": "display_data"
    }
   ],
   "source": [
    "fig = plt.figure( 2, (9, 7) )\n",
    "\n",
    "n = len(vas)\n",
    "\n",
    "plt.plot( list( range(0, n * 25, 25) ), tas, label = \"training\" )\n",
    "plt.plot( list( range(0, n * 25, 25) ), vas, label = \"validation\" )\n",
    "\n",
    "plt.xlim( xmin = 0, xmax = (len(vas) - 1)*25 )\n",
    "plt.ylim( ymax = 1, #min(np.max(vas) + .5 * np.max(vas), 1),\n",
    "          ymin = max( np.min(vas) - .5 * np.min(vas), 0) )\n",
    "\n",
    "plt.xlabel(\"Step\")\n",
    "plt.ylabel(\"Accuracy\")\n",
    "\n",
    "plt.legend( loc = \"best\" )\n",
    "\n",
    "fig.savefig( \"acc-drop.eps\", format = 'eps', dpi = 20000, bbox_inches = 'tight' )\n",
    "\n",
    "plt.show()"
   ]
  },
  {
   "cell_type": "code",
   "execution_count": null,
   "metadata": {},
   "outputs": [],
   "source": []
  }
 ],
 "metadata": {
  "kernelspec": {
   "display_name": "Python 3",
   "language": "python",
   "name": "python3"
  },
  "language_info": {
   "codemirror_mode": {
    "name": "ipython",
    "version": 3
   },
   "file_extension": ".py",
   "mimetype": "text/x-python",
   "name": "python",
   "nbconvert_exporter": "python",
   "pygments_lexer": "ipython3",
   "version": "3.5.2"
  }
 },
 "nbformat": 4,
 "nbformat_minor": 2
}
